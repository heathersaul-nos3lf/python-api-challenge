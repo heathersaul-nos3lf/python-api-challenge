{
 "cells": [
  {
   "cell_type": "markdown",
   "metadata": {},
   "source": [
    "# WeatherPy\n",
    "----\n",
    "\n",
    "#### Note\n",
    "* Instructions have been included for each segment. You do not have to follow them exactly, but they are included to help you think through the steps."
   ]
  },
  {
   "cell_type": "code",
   "execution_count": 1,
   "metadata": {
    "scrolled": true
   },
   "outputs": [],
   "source": [
    "# Dependencies and Setup\n",
    "import matplotlib.pyplot as plt\n",
    "import pandas as pd\n",
    "import numpy as np\n",
    "import requests\n",
    "import time\n",
    "import random\n",
    "from scipy.stats import linregress\n",
    "from pprint import pprint\n",
    "\n",
    "# Import API key\n",
    "from api_keys import weather_api_key\n",
    "\n",
    "# Incorporated citipy to determine city based on latitude and longitude\n",
    "from citipy import citipy\n",
    "\n",
    "# Output File (CSV)\n",
    "output_data_file = \"output_data/cities.csv\"\n",
    "\n",
    "# Range of latitudes and longitudes\n",
    "lat_range = (-90, 90)\n",
    "lng_range = (-180, 180)"
   ]
  },
  {
   "cell_type": "markdown",
   "metadata": {},
   "source": [
    "## Generate Cities List"
   ]
  },
  {
   "cell_type": "code",
   "execution_count": 2,
   "metadata": {},
   "outputs": [
    {
     "data": {
      "text/plain": [
       "624"
      ]
     },
     "execution_count": 2,
     "metadata": {},
     "output_type": "execute_result"
    }
   ],
   "source": [
    "lat_lngs = []\n",
    "cities = []\n",
    "\n",
    "# Create a set of random lat and lng combinations\n",
    "lats = np.random.uniform(low=-90.000, high=90.000, size=1500)\n",
    "lngs = np.random.uniform(low=-180.000, high=180.000, size=1500)\n",
    "lat_lngs = zip(lats, lngs)\n",
    "\n",
    "# Identify nearest city for each lat, lng combination\n",
    "for lat_lng in lat_lngs:\n",
    "    city = citipy.nearest_city(lat_lng[0], lat_lng[1]).city_name\n",
    "    \n",
    "    # If the city is unique, then add it to a our cities list\n",
    "    if city not in cities:\n",
    "        cities.append(city)\n",
    "\n",
    "# Print the city count to confirm sufficient count\n",
    "len(cities)"
   ]
  },
  {
   "cell_type": "code",
   "execution_count": 3,
   "metadata": {},
   "outputs": [],
   "source": [
    "indx_list = [*range(1,599)]\n",
    "city_list=[]\n",
    "random.shuffle(indx_list)\n",
    "for j in range(0,len(indx_list)):\n",
    "    city_list.append(cities[indx_list[j]].capitalize())\n"
   ]
  },
  {
   "cell_type": "code",
   "execution_count": 4,
   "metadata": {},
   "outputs": [
    {
     "data": {
      "text/plain": [
       "'757587e0b8932ab68204e1935cbf5671'"
      ]
     },
     "execution_count": 4,
     "metadata": {},
     "output_type": "execute_result"
    }
   ],
   "source": [
    "weather_api_key"
   ]
  },
  {
   "cell_type": "code",
   "execution_count": 5,
   "metadata": {},
   "outputs": [
    {
     "data": {
      "text/plain": [
       "'http://api.openweathermap.org/data/2.5/weather?appid=757587e0b8932ab68204e1935cbf5671&units=imperial&q='"
      ]
     },
     "execution_count": 5,
     "metadata": {},
     "output_type": "execute_result"
    }
   ],
   "source": [
    "url = \"http://api.openweathermap.org/data/2.5/weather?\"\n",
    "units = \"imperial\"\n",
    "query_url = f\"{url}appid={weather_api_key}&units={units}&q=\"\n",
    "query_url"
   ]
  },
  {
   "cell_type": "code",
   "execution_count": 6,
   "metadata": {},
   "outputs": [
    {
     "data": {
      "text/plain": [
       "{'cod': '404', 'message': 'city not found'}"
      ]
     },
     "execution_count": 6,
     "metadata": {},
     "output_type": "execute_result"
    }
   ],
   "source": [
    "response=requests.get(query_url+'yjaris').json()\n",
    "a1=response.keys()\n",
    "list(a1)\n",
    "response"
   ]
  },
  {
   "cell_type": "markdown",
   "metadata": {},
   "source": [
    "### Perform API Calls\n",
    "* Perform a weather check on each city using a series of successive API calls.\n",
    "* Include a print log of each city as it'sbeing processed (with the city number and city name).\n"
   ]
  },
  {
   "cell_type": "code",
   "execution_count": 9,
   "metadata": {},
   "outputs": [
    {
     "name": "stdout",
     "output_type": "stream",
     "text": [
      "Bambous virieux 1106677\n",
      "Hamilton 4513583\n",
      "Rognan 3141548\n",
      "Tianpeng 1792916\n",
      "Pochutla 3517970\n",
      "Matao 3457509\n",
      "Ponta do sol 2264557\n",
      "Mudgee 2156404\n",
      "Faanui 4034551\n",
      "Shigony 494531\n",
      "city not found\n",
      "Mogadishu 53654\n",
      "Cherdyn 569359\n",
      "Pedernales 3495137\n",
      "city not found\n",
      "Sioux lookout 6148373\n",
      "Carutapera 3402648\n",
      "Touros 3386213\n",
      "Bahia de caraquez 3660401\n",
      "Xining 1788852\n",
      "Samarai 2132606\n",
      "city not found\n",
      "Goulburn 2164837\n",
      "Hornepayne 5977046\n",
      "Tottori 1849892\n",
      "Bosilovo 792419\n",
      "city not found\n",
      "Morehead 4301317\n",
      "Svetlogorsk 10722858\n",
      "Saint-louis 2246451\n",
      "Gravdal 3155152\n",
      "Talara 3691582\n",
      "Havoysund 779622\n",
      "Lac-megantic 6032673\n",
      "San remo 6542207\n",
      "Cherskiy 2126199\n",
      "Sidi ali 2487130\n",
      "Pula 3192224\n",
      "Tongren 1792592\n",
      "Uyuni 3901903\n",
      "Sesheke 898905\n",
      "College 5859699\n",
      "Gamba 2400547\n",
      "Farmington 5467328\n",
      "Umm lajj 100926\n",
      "Puerto baquerizo moreno 3652758\n",
      "Nianzishan 2035593\n",
      "Ilhabela 3461425\n",
      "Mormugao 1263494\n",
      "Kurilsk 2123979\n",
      "San policarpo 1688696\n",
      "Urambo 149172\n",
      "city not found\n",
      "Hofn 2630299\n",
      "Bowen 2174444\n",
      "Charters towers 2171722\n",
      "Jingdezhen 1805680\n",
      "Sitka 5557293\n",
      "Broken hill 2173911\n",
      "Arraial do cabo 3471451\n",
      "Ugoofaaru 1337619\n",
      "Khatanga 2022572\n",
      "Mastic beach 5126209\n",
      "Bethel 5282297\n",
      "city not found\n",
      "Rohatec 3066825\n",
      "Havelock 4470244\n",
      "La romana 3500957\n",
      "Muravlenko 1540711\n",
      "Barrow 5880054\n",
      "Flinders 6255012\n",
      "Polunochnoye 1494482\n",
      "Kaitangata 2208248\n",
      "Codrington 2171099\n",
      "Klaksvik 2618795\n",
      "Dingle 1714733\n",
      "Smithers 6149996\n",
      "Yellowknife 6185377\n",
      "Mahebourg 934322\n",
      "Olinda 3393536\n",
      "Belluru 1276506\n",
      "city not found\n",
      "Octeville 2989755\n",
      "San fernando 1690039\n",
      "Kamenka 553766\n",
      "city not found\n",
      "Yatou 1786855\n",
      "Namibe 3347019\n",
      "Mayfield 4300105\n",
      "Petrolina 3392242\n",
      "Padang 1633419\n",
      "Mawlaik 1310120\n",
      "Bilibino 2126682\n",
      "Butaritari 2110227\n",
      "Arlit 2447513\n",
      "city not found\n",
      "Hudson bay 5978133\n",
      "Chokurdakh 2126123\n",
      "Swan river 6160362\n",
      "Shingu 1847947\n",
      "Okhotsk 2122605\n",
      "Ancud 3899695\n",
      "Cabo san lucas 3985710\n",
      "Kiunga 2093846\n",
      "Kumluca 305681\n",
      "Walvis bay 3359638\n",
      "Hobyo 57000\n",
      "Carahue 3896774\n",
      "Betsiamites 6945992\n",
      "city not found\n",
      "Palimanan 1633056\n",
      "Nyurba 2018735\n",
      "Krasnoselkup 1502073\n",
      "Parabel 1495586\n",
      "Grand-lahou 2288105\n",
      "city not found\n",
      "Kuching 1735634\n",
      "La playa 4565804\n",
      "Skjervoy 777682\n",
      "Kango 2400682\n",
      "Laibin 1804609\n",
      "Carnarvon 2074865\n",
      "Merauke 2082539\n",
      "Cidreira 3466165\n",
      "Dmytrivka 710033\n",
      "Kenora 5991056\n",
      "Vostok 2013279\n",
      "Anadyr 2127202\n",
      "Djibo 2361177\n",
      "city not found\n",
      "Quthing 932183\n",
      "Santa maria 3450083\n",
      "Lively 6057842\n",
      "Nome 5870133\n",
      "Baykit 1510689\n",
      "city not found\n",
      "Pisco 3932145\n",
      "Bandarbeyla 64814\n",
      "Spornoye 578283\n",
      "Coihaique 3894426\n",
      "city not found\n",
      "Victoria 1819729\n",
      "Jaca 3120211\n",
      "Bauchi 2347468\n",
      "Quito 3652462\n",
      "Tiksi 2015306\n",
      "Akdepe 601551\n",
      "Kayalpattinam 1267361\n",
      "Quatre cocos 1106643\n",
      "city not found\n",
      "Mbumi 154309\n",
      "Odweyne 53372\n",
      "Chiang kham 1611202\n",
      "Delano 5342485\n",
      "Kirakira 2178753\n",
      "Bontang 1648186\n",
      "Turayf 101312\n",
      "Barcelona 3128760\n",
      "Itarema 3393692\n",
      "Nikolskoye 546105\n",
      "Ofaqim 293992\n",
      "Punta arenas 3874787\n",
      "Behshahr 140918\n",
      "Nelson bay 2155562\n",
      "Saint-joseph 6690296\n",
      "Bathsheba 3374083\n",
      "Seoul 1835848\n",
      "Batouri 2234663\n",
      "Lata 2738381\n",
      "Port alfred 964432\n",
      "Pemba 1028918\n",
      "Anan 1865309\n",
      "Baghdad 98182\n",
      "Tuatapere 2180815\n",
      "Comodoro rivadavia 3860443\n",
      "Dubti 338554\n",
      "Menongue 3347353\n",
      "Altay 1529651\n",
      "Lamar 4705086\n",
      "Albany 5106841\n",
      "city not found\n",
      "city not found\n",
      "Ginda 1253628\n",
      "East london 1006984\n",
      "Qaqortoq 3420846\n",
      "Juneau 5554072\n",
      "Basco 1726449\n",
      "Port lincoln 2063036\n",
      "Muros 3115824\n",
      "Ler 371466\n",
      "Bambanglipuro 1650434\n",
      "Atambua 1651103\n",
      "Fuyu 2037335\n",
      "Rocha 3440777\n",
      "Vaini 4032243\n",
      "Marienburg 3092472\n",
      "Henties bay 3356832\n",
      "Takoradi 2294915\n",
      "Maceio 3395981\n",
      "city not found\n",
      "Dikson 1507390\n",
      "Buala 2109528\n",
      "Nanortalik 3421765\n",
      "Norton shores 5004005\n",
      "Penhold 6100954\n",
      "Yenagoa 2318123\n",
      "Corinto 259289\n",
      "Kruisfontein 986717\n",
      "Solnechnyy 2016307\n",
      "Severodvinsk 496285\n",
      "Latung 1707108\n",
      "Caconda 3351380\n",
      "Malartic 6064704\n",
      "city not found\n",
      "Saldanha 3361934\n",
      "Camacha 2270385\n",
      "Isangel 2136825\n",
      "Kot addu 1173378\n",
      "Upernavik 3418910\n",
      "Shirokiy 2016680\n",
      "Margate 2643044\n",
      "Matay 352628\n",
      "Rio pomba 3451094\n",
      "Nuuk 3421319\n",
      "city not found\n",
      "Guerrero negro 4021858\n",
      "Loreto 3998291\n",
      "Udon thani 1605239\n",
      "Manitouwadge 6065253\n",
      "Saint pete beach 4171522\n",
      "Avarua 4035715\n",
      "Maldonado 3441890\n",
      "George 1002145\n",
      "Sibu 1735902\n",
      "Dauphin 5935341\n",
      "Thetford mines 6943827\n",
      "Tomatlan 3981391\n",
      "Kathu 1153035\n",
      "Baft 390054\n",
      "Hithadhoo 1282256\n",
      "Lalawigan 1707911\n",
      "Saint-philippe 935215\n",
      "city not found\n",
      "Calama 3897347\n",
      "city not found\n",
      "Muroto 1856392\n",
      "Sayat 1218436\n",
      "Saskylakh 2017155\n",
      "Bloemfontein 1018725\n",
      "Huarmey 3939168\n",
      "Elko 5703673\n",
      "Russell 4047434\n",
      "Devonport 2168943\n",
      "Axim 2303611\n",
      "Bonavista 5905393\n",
      "Lasa 3175096\n",
      "San cristobal 3628473\n",
      "Trairi 3386177\n",
      "Tambura 366444\n",
      "Nosy varika 1058080\n",
      "Izyum 707292\n",
      "Pontal do parana 6322927\n",
      "Rikitea 4030556\n",
      "city not found\n",
      "Sorkjosen 777572\n",
      "Necochea 3430443\n",
      "Muisne 3653967\n",
      "Zhireken 2012510\n",
      "Dutlwe 933787\n",
      "Pokaran 1259460\n",
      "city not found\n",
      "Concordia 3435261\n",
      "Honiara 2108502\n",
      "Lazaro cardenas 4026082\n",
      "Alta floresta 6316343\n",
      "Kasongo-lunda 2315026\n",
      "Golspie 2648341\n",
      "Busselton 2075265\n",
      "Mar del plata 3430863\n",
      "Fort-shevchenko 609906\n",
      "Tiznit 2527087\n",
      "Cockburn town 3576994\n",
      "Hermanus 3366880\n",
      "Bairiki 7601762\n",
      "Nagpur 1262180\n",
      "Yar-sale 1486321\n",
      "Constitucion 3893726\n",
      "Kununurra 2068110\n",
      "city not found\n",
      "Vila franca do campo 3372472\n",
      "Hasaki 2112802\n",
      "Bulgan 2032201\n",
      "Jamestown 5122534\n",
      "Poso 1630723\n",
      "Dunedin 2191562\n",
      "city not found\n",
      "Tezu 1254709\n",
      "Kincardine 2645525\n",
      "Neiafu 4032420\n",
      "Bossangoa 2388036\n",
      "Boa vista 3664980\n",
      "Lebu 3883457\n",
      "Eydhafushi 1337606\n",
      "Sampit 1628884\n",
      "city not found\n",
      "city not found\n",
      "North platte 5697939\n",
      "Kharp 1503726\n",
      "city not found\n",
      "Piacabucu 3454005\n",
      "Verkhnyaya toyma 474470\n",
      "Zhigansk 2012530\n",
      "Qaanaaq 3831208\n",
      "Nabire 1634614\n",
      "Ushuaia 3833367\n",
      "Platteville 5267332\n",
      "Singkawang 1626916\n",
      "Marsh harbour 3571913\n",
      "Bay roberts 5895424\n",
      "Ritchie 961226\n",
      "Luau 876177\n",
      "Kargil 1267776\n",
      "New norfolk 2155415\n",
      "Labytnangi 1500933\n",
      "Huambo 3348313\n",
      "Saint anthony 5044290\n",
      "San patricio 3985168\n",
      "Damietta 358048\n",
      "Nouadhibou 2377457\n",
      "Saint george 5546220\n",
      "Vestmannaeyjar 3412093\n",
      "Surt 2210554\n",
      "city not found\n",
      "Bredasdorp 1015776\n",
      "Curitibanos 3464974\n",
      "Georgetown 1735106\n",
      "Ullapool 2635199\n",
      "Chuy 3443061\n",
      "Sao miguel do araguaia 3448455\n",
      "Plastun 2017912\n",
      "Ninghai 1799384\n",
      "city not found\n",
      "Hirara 1862505\n",
      "Abatskoye 1512210\n",
      "Lavrentiya 4031637\n",
      "Santa cruz 3904906\n",
      "Torbay 6167817\n",
      "Ribeira grande 3372707\n",
      "Olhao 2265447\n",
      "Moron 3430545\n",
      "Asau 686090\n",
      "Mehamn 778707\n",
      "Kahului 5847411\n",
      "Cutro 2524869\n",
      "Derbent 566532\n",
      "Mokhsogollokh 2019867\n",
      "Lambarene 2399888\n",
      "Havre-saint-pierre 5972291\n",
      "Hobart 2163355\n",
      "Touba 2280376\n",
      "Salalah 286621\n",
      "Innisfail 2162683\n",
      "city not found\n",
      "Tessalit 2449893\n",
      "Sur 286245\n",
      "Sorland 3137469\n",
      "The pas 6164499\n",
      "Ocotlan 3994489\n",
      "Santa rosa 1687894\n",
      "Sola 2134814\n",
      "San quintin 3984997\n",
      "Tilichiki 2120591\n",
      "Port hedland 2063042\n",
      "Catamarca 3837702\n",
      "Port augusta 2063056\n",
      "Eten 3697083\n",
      "Kurumkan 2021188\n",
      "Provideniya 4031574\n",
      "Pangnirtung 6096551\n",
      "Araouane 2460954\n",
      "Cariacica 3466954\n",
      "city not found\n",
      "Kloulklubed 7671223\n",
      "Litovko 2020738\n",
      "Kavieng 2094342\n",
      "Falun 2715459\n",
      "Enshi 1811720\n",
      "Mataura 6201424\n",
      "Kodiak 5866583\n",
      "Vicosa 3445133\n",
      "Lensk 2020838\n",
      "city not found\n",
      "Castro 3466704\n",
      "Boende 218680\n",
      "Pacific grove 5380437\n",
      "Kralendijk 3513563\n",
      "Kadnikov 554554\n",
      "city not found\n",
      "Anton lizardo 3532821\n",
      "Kapaa 5848280\n",
      "Pevek 2122090\n",
      "Vanavara 2013727\n",
      "Caico 3404117\n",
      "Flin flon 5954718\n",
      "Mangrol 1263752\n",
      "city not found\n",
      "Narsaq 3421719\n",
      "Takhtamygda 2015707\n",
      "city not found\n",
      "Bengkulu 1649150\n",
      "Kisangani 212730\n",
      "Kolding 2618528\n",
      "Amapa 3407762\n",
      "Tuktoyaktuk 6170031\n",
      "Djambala 2260401\n",
      "Toora-khem 1489401\n",
      "Westport 4845585\n",
      "Rio grande 3451138\n",
      "Maniitsoq 3421982\n",
      "Kuybysheve 703494\n",
      "Camiri 3922414\n",
      "La ronge 6050066\n",
      "Bluff 2206939\n",
      "city not found\n",
      "Ilulissat 3423146\n",
      "Kashi 1280849\n",
      "Tautira 4033557\n",
      "Beloha 1067565\n",
      "Karakol 1528121\n",
      "Clarence town 2171465\n",
      "Cabedelo 3404558\n",
      "Svetlyy 485660\n",
      "city not found\n",
      "Alice springs 2077895\n",
      "Puerto ayora 3652764\n",
      "Santiago 3871336\n",
      "Hilo 5855927\n",
      "Ponezhukay 506680\n",
      "city not found\n",
      "Talnakh 1490256\n",
      "Clyde river 5924351\n",
      "Fountain 5422191\n",
      "Tasiilaq 3424607\n",
      "Dajal 1180752\n",
      "Gubkinskiy 1539209\n",
      "Karwar 1267635\n",
      "La rinconada 2515562\n",
      "Yurkivka 688052\n",
      "Leningradskiy 2123814\n",
      "Pajapan 3522186\n",
      "city not found\n",
      "Udachnyy 2014624\n",
      "Waingapu 1622318\n",
      "city not found\n",
      "South patrick shores 4173528\n",
      "Fukue 1863997\n",
      "Cape town 3369157\n",
      "Aksarka 1512019\n",
      "Lewisporte 6053446\n",
      "Maarianhamina 3041732\n",
      "city not found\n",
      "Seydi 1218420\n",
      "Puerto colombia 3671497\n",
      "Oil city 5204278\n",
      "Berlevag 780687\n",
      "Tucupita 3625929\n",
      "city not found\n",
      "Vila velha 3445026\n",
      "Mwene-ditu 207570\n",
      "Thompson 6165406\n",
      "Tateyama 1850523\n",
      "Sao felix do xingu 3388847\n",
      "Makakilo city 5850554\n",
      "city not found\n",
      "city not found\n",
      "Hambantota 1244926\n",
      "Grindavik 3416888\n",
      "Itaituba 3397967\n",
      "Goderich 5962442\n",
      "Raymondville 4721703\n",
      "Sarab 126972\n",
      "Tupaciguara 3445941\n",
      "Rafai 236524\n",
      "Port blair 1259385\n",
      "Lompoc 5367788\n",
      "Mpwapwa 153094\n"
     ]
    },
    {
     "name": "stdout",
     "output_type": "stream",
     "text": [
      "Artesia 5324862\n",
      "city not found\n",
      "Pangkalanbuun 1632694\n",
      "city not found\n",
      "Bulnes 3897724\n",
      "city not found\n",
      "Urumqi 1529102\n",
      "Kalmunai 1242110\n",
      "Jinka 333750\n",
      "Bilma 2446796\n",
      "Prince albert 6113335\n",
      "Sohagpur 1255884\n",
      "Luderitz 3355672\n",
      "Bjorkelangen 3161346\n",
      "Solvychegodsk 490743\n",
      "city not found\n",
      "Faya 110690\n",
      "city not found\n",
      "Ixtapa 4004293\n",
      "Tual 1623197\n",
      "Souillac 933995\n",
      "Dumai 1645133\n",
      "Geraldton 2070998\n",
      "city not found\n",
      "Khasan 2039557\n",
      "Sao filipe 3374210\n",
      "Birao 240210\n",
      "Norman wells 6089245\n",
      "Beitbridge 895269\n",
      "Vadinsk 477418\n",
      "Quelimane 1028434\n",
      "Port macquarie 2152659\n",
      "Warrington 2634739\n",
      "Bud 4255151\n",
      "Poum 2138555\n",
      "Wewak 2083537\n",
      "Marca 673868\n",
      "city not found\n",
      "city not found\n",
      "city not found\n",
      "city not found\n",
      "Bemidji 5017822\n",
      "Jimo 1805757\n",
      "city not found\n",
      "Manacapuru 3663529\n",
      "Jaisalmer 1269507\n",
      "Peniche 2264923\n",
      "Whitehorse 6180550\n",
      "Olafsvik 3414079\n",
      "Zemio 235826\n",
      "Plouzane 2986626\n",
      "Humaita 3664078\n",
      "Vinh 1562798\n",
      "Tchollire 2221607\n",
      "Platonovka 509104\n",
      "Edeia 3464363\n",
      "Acapulco 3533462\n",
      "Longyearbyen 2729907\n",
      "Kedrovyy 1538641\n",
      "Vanimo 2084442\n",
      "Hovd 1516048\n",
      "Airai 1651810\n",
      "Bardiyah 80509\n",
      "Mulki 1262546\n",
      "Christchurch 2192362\n",
      "Saint-pierre 935214\n",
      "Natalio 3437681\n",
      "Husavik 2629833\n",
      "Paamiut 3421193\n",
      "Chiredzi 893485\n",
      "Katsuura 2112309\n",
      "Port-cartier 6111696\n",
      "San ramon 5392593\n",
      "Grenada 2517117\n",
      "Esperanza 3505855\n",
      "Karratha 6620339\n",
      "Ashland 5146062\n",
      "Cayenne 3382160\n",
      "Faisalabad 1179400\n",
      "Port hardy 6111862\n",
      "La rioja 3336897\n",
      "Ganzhou 1810637\n",
      "Eirunepe 3664321\n",
      "Maua 3457381\n",
      "Port elizabeth 964420\n",
      "Verkhoyansk 2013465\n",
      "Mount gambier 2156643\n",
      "Vardo 777019\n",
      "city not found\n",
      "Beringovskiy 2126710\n",
      "San luis 3837056\n",
      "Ostrovnoy 556268\n",
      "Port hawkesbury 6111867\n",
      "Esperance 2071860\n",
      "Iqaluit 5983720\n",
      "Kabanjahe 1214965\n",
      "Abha 110690\n",
      "Nichinan 1855476\n",
      "Kristiinankaupunki 650769\n",
      "Payo 1638775\n",
      "Atuona 4020109\n",
      "Bitkine 2435124\n",
      "Ellisras 1005768\n",
      "Itaueira 3397865\n",
      "Naze 1855540\n",
      "Rorvik 3141310\n",
      "Yulara 6355222\n",
      "Sungairaya 1625908\n",
      "Saint-augustin 6137462\n",
      "city not found\n",
      "Fortuna 5563839\n",
      "city not found\n",
      "Joshimath 1268814\n",
      "Japura 1642773\n",
      "city not found\n",
      "Oktyabrskiy 515879\n",
      "Telimele 2414925\n",
      "Severo-kurilsk 2121385\n"
     ]
    }
   ],
   "source": [
    "temp=[]\n",
    "wind=[]\n",
    "hum=[]\n",
    "cld=[]\n",
    "lon=[]\n",
    "lat=[]\n",
    "cit=[]\n",
    "for city in city_list:\n",
    "    try:\n",
    "        response = requests.get(query_url + city).json()\n",
    "        print(city,response['id'])\n",
    "        \n",
    "        temp.append(response['main']['temp'])\n",
    "        hum.append(response['main']['humidity'])\n",
    "        wind.append(response['wind']['speed'])\n",
    "        cld.append(list(response['clouds'].values())[0])\n",
    "        lon.append(list(response['coord'].values())[0])\n",
    "        lat.append(list(response['coord'].values())[1])\n",
    "        cit.append(city)\n",
    "    except:\n",
    "        print(\"city not found\")\n",
    "        pass\n",
    "    "
   ]
  },
  {
   "cell_type": "markdown",
   "metadata": {},
   "source": [
    "### Convert Raw Data to DataFrame\n",
    "* Export the city data into a .csv.\n",
    "* Display the DataFrame"
   ]
  },
  {
   "cell_type": "code",
   "execution_count": 10,
   "metadata": {},
   "outputs": [
    {
     "data": {
      "text/html": [
       "<div>\n",
       "<style scoped>\n",
       "    .dataframe tbody tr th:only-of-type {\n",
       "        vertical-align: middle;\n",
       "    }\n",
       "\n",
       "    .dataframe tbody tr th {\n",
       "        vertical-align: top;\n",
       "    }\n",
       "\n",
       "    .dataframe thead th {\n",
       "        text-align: right;\n",
       "    }\n",
       "</style>\n",
       "<table border=\"1\" class=\"dataframe\">\n",
       "  <thead>\n",
       "    <tr style=\"text-align: right;\">\n",
       "      <th></th>\n",
       "      <th>City</th>\n",
       "      <th>Lon</th>\n",
       "      <th>Lat</th>\n",
       "      <th>Temp</th>\n",
       "      <th>Humidity</th>\n",
       "      <th>Wind</th>\n",
       "      <th>Cloud</th>\n",
       "    </tr>\n",
       "  </thead>\n",
       "  <tbody>\n",
       "    <tr>\n",
       "      <td>0</td>\n",
       "      <td>Bambous virieux</td>\n",
       "      <td>57.76</td>\n",
       "      <td>-20.34</td>\n",
       "      <td>77.00</td>\n",
       "      <td>78</td>\n",
       "      <td>9.17</td>\n",
       "      <td>75</td>\n",
       "    </tr>\n",
       "    <tr>\n",
       "      <td>1</td>\n",
       "      <td>Hamilton</td>\n",
       "      <td>-84.53</td>\n",
       "      <td>39.18</td>\n",
       "      <td>32.65</td>\n",
       "      <td>89</td>\n",
       "      <td>2.08</td>\n",
       "      <td>90</td>\n",
       "    </tr>\n",
       "    <tr>\n",
       "      <td>2</td>\n",
       "      <td>Rognan</td>\n",
       "      <td>15.39</td>\n",
       "      <td>67.10</td>\n",
       "      <td>23.34</td>\n",
       "      <td>79</td>\n",
       "      <td>38.03</td>\n",
       "      <td>75</td>\n",
       "    </tr>\n",
       "    <tr>\n",
       "      <td>3</td>\n",
       "      <td>Tianpeng</td>\n",
       "      <td>103.94</td>\n",
       "      <td>30.99</td>\n",
       "      <td>44.60</td>\n",
       "      <td>81</td>\n",
       "      <td>4.47</td>\n",
       "      <td>40</td>\n",
       "    </tr>\n",
       "    <tr>\n",
       "      <td>4</td>\n",
       "      <td>Pochutla</td>\n",
       "      <td>-96.47</td>\n",
       "      <td>15.74</td>\n",
       "      <td>78.98</td>\n",
       "      <td>69</td>\n",
       "      <td>9.17</td>\n",
       "      <td>5</td>\n",
       "    </tr>\n",
       "    <tr>\n",
       "      <td>...</td>\n",
       "      <td>...</td>\n",
       "      <td>...</td>\n",
       "      <td>...</td>\n",
       "      <td>...</td>\n",
       "      <td>...</td>\n",
       "      <td>...</td>\n",
       "      <td>...</td>\n",
       "    </tr>\n",
       "    <tr>\n",
       "      <td>538</td>\n",
       "      <td>Joshimath</td>\n",
       "      <td>79.57</td>\n",
       "      <td>30.57</td>\n",
       "      <td>30.16</td>\n",
       "      <td>32</td>\n",
       "      <td>7.70</td>\n",
       "      <td>0</td>\n",
       "    </tr>\n",
       "    <tr>\n",
       "      <td>539</td>\n",
       "      <td>Japura</td>\n",
       "      <td>102.35</td>\n",
       "      <td>-0.32</td>\n",
       "      <td>83.64</td>\n",
       "      <td>79</td>\n",
       "      <td>0.83</td>\n",
       "      <td>98</td>\n",
       "    </tr>\n",
       "    <tr>\n",
       "      <td>540</td>\n",
       "      <td>Oktyabrskiy</td>\n",
       "      <td>53.47</td>\n",
       "      <td>54.48</td>\n",
       "      <td>3.51</td>\n",
       "      <td>95</td>\n",
       "      <td>5.88</td>\n",
       "      <td>96</td>\n",
       "    </tr>\n",
       "    <tr>\n",
       "      <td>541</td>\n",
       "      <td>Telimele</td>\n",
       "      <td>-13.33</td>\n",
       "      <td>10.92</td>\n",
       "      <td>67.08</td>\n",
       "      <td>25</td>\n",
       "      <td>1.79</td>\n",
       "      <td>54</td>\n",
       "    </tr>\n",
       "    <tr>\n",
       "      <td>542</td>\n",
       "      <td>Severo-kurilsk</td>\n",
       "      <td>156.12</td>\n",
       "      <td>50.68</td>\n",
       "      <td>22.37</td>\n",
       "      <td>88</td>\n",
       "      <td>11.25</td>\n",
       "      <td>89</td>\n",
       "    </tr>\n",
       "  </tbody>\n",
       "</table>\n",
       "<p>543 rows × 7 columns</p>\n",
       "</div>"
      ],
      "text/plain": [
       "                City     Lon    Lat   Temp  Humidity   Wind  Cloud\n",
       "0    Bambous virieux   57.76 -20.34  77.00        78   9.17     75\n",
       "1           Hamilton  -84.53  39.18  32.65        89   2.08     90\n",
       "2             Rognan   15.39  67.10  23.34        79  38.03     75\n",
       "3           Tianpeng  103.94  30.99  44.60        81   4.47     40\n",
       "4           Pochutla  -96.47  15.74  78.98        69   9.17      5\n",
       "..               ...     ...    ...    ...       ...    ...    ...\n",
       "538        Joshimath   79.57  30.57  30.16        32   7.70      0\n",
       "539           Japura  102.35  -0.32  83.64        79   0.83     98\n",
       "540      Oktyabrskiy   53.47  54.48   3.51        95   5.88     96\n",
       "541         Telimele  -13.33  10.92  67.08        25   1.79     54\n",
       "542   Severo-kurilsk  156.12  50.68  22.37        88  11.25     89\n",
       "\n",
       "[543 rows x 7 columns]"
      ]
     },
     "execution_count": 10,
     "metadata": {},
     "output_type": "execute_result"
    }
   ],
   "source": [
    "data = pd.DataFrame({'City':[ i for i in cit],\n",
    "                     'Lon':[j for j in lon],\n",
    "                     'Lat':[k for k in lat],\n",
    "                     'Temp':[h for h in temp],\n",
    "                     'Humidity':[p for p in hum],\n",
    "                     'Wind':[w for w in wind],\n",
    "                     'Cloud':[cl for cl in cld]\n",
    "       \n",
    "        \n",
    "       } )\n",
    "data\n"
   ]
  },
  {
   "cell_type": "code",
   "execution_count": 27,
   "metadata": {},
   "outputs": [],
   "source": [
    "data.to_csv(\"weather_data\")"
   ]
  },
  {
   "cell_type": "code",
   "execution_count": null,
   "metadata": {},
   "outputs": [],
   "source": [
    "len(lon)"
   ]
  },
  {
   "cell_type": "markdown",
   "metadata": {},
   "source": [
    "### Plotting the Data\n",
    "* Use proper labeling of the plots using plot titles (including date of analysis) and axes labels.\n",
    "* Save the plotted figures as .pngs."
   ]
  },
  {
   "cell_type": "markdown",
   "metadata": {},
   "source": [
    "#### Latitude vs. Temperature Plot"
   ]
  },
  {
   "cell_type": "code",
   "execution_count": 78,
   "metadata": {
    "scrolled": true
   },
   "outputs": [
    {
     "data": {
      "image/png": "[encoded data removed]",
      "text/plain": [
       "<Figure size 432x288 with 1 Axes>"
      ]
     },
     "metadata": {
      "needs_background": "light"
     },
     "output_type": "display_data"
    }
   ],
   "source": [
    "plt.scatter(data['Lat'], data[\"Temp\"])\n",
    "plt.title(\"Latitude vs. Temperature\")\n",
    "plt.xlabel(\"Latitude\")\n",
    "plt.ylabel(\"Temperature\")\n",
    "plt.savefig(\"LatvTemp.png\")\n",
    "plt.show()\n",
    "\n"
   ]
  },
  {
   "cell_type": "markdown",
   "metadata": {},
   "source": [
    "#### Latitude vs. Humidity Plot"
   ]
  },
  {
   "cell_type": "code",
   "execution_count": 74,
   "metadata": {},
   "outputs": [
    {
     "data": {
      "image/png": "[encoded data removed]",
      "text/plain": [
       "<Figure size 432x288 with 1 Axes>"
      ]
     },
     "metadata": {
      "needs_background": "light"
     },
     "output_type": "display_data"
    }
   ],
   "source": [
    "plt.scatter(data['Lat'], data['Humidity'])\n",
    "plt.title(\"Latitide vs. Humidity\")\n",
    "plt.xlabel(\"Latitude\")\n",
    "plt.ylabel(\"Humidity\")\n",
    "plt.savefig(\"LatvHum.png\")\n",
    "plt.show()"
   ]
  },
  {
   "cell_type": "markdown",
   "metadata": {},
   "source": [
    "#### Latitude vs. Cloudiness Plot"
   ]
  },
  {
   "cell_type": "code",
   "execution_count": 77,
   "metadata": {},
   "outputs": [
    {
     "data": {
      "image/png": "[encoded data removed]",
      "text/plain": [
       "<Figure size 432x288 with 1 Axes>"
      ]
     },
     "metadata": {
      "needs_background": "light"
     },
     "output_type": "display_data"
    }
   ],
   "source": [
    "plt.scatter(data['Lat'], data['Cloud'])\n",
    "plt.title(\"Latitude vs. Cloudiness\")\n",
    "plt.xlabel(\"Latitude\")\n",
    "plt.ylabel(\"Cloudiness\")\n",
    "plt.savefig(\"LatvCloud.png\")\n",
    "plt.show()"
   ]
  },
  {
   "cell_type": "markdown",
   "metadata": {},
   "source": [
    "#### Latitude vs. Wind Speed Plot"
   ]
  },
  {
   "cell_type": "code",
   "execution_count": 107,
   "metadata": {},
   "outputs": [
    {
     "data": {
      "image/png": "[encoded data removed]",
      "text/plain": [
       "<Figure size 432x288 with 1 Axes>"
      ]
     },
     "metadata": {
      "needs_background": "light"
     },
     "output_type": "display_data"
    }
   ],
   "source": [
    "plt.scatter(data['Lat'], data['Wind'])\n",
    "plt.title(\"Latitude vs. Wind Speed\")\n",
    "plt.xlabel(\"Latitude\")\n",
    "plt.ylabel(\"Wind Speed\")\n",
    "plt.savefig(\"LatvWind.png\")\n",
    "plt.show()"
   ]
  },
  {
   "cell_type": "markdown",
   "metadata": {},
   "source": [
    "## Linear Regression"
   ]
  },
  {
   "cell_type": "code",
   "execution_count": 25,
   "metadata": {},
   "outputs": [],
   "source": [
    "# OPTIONAL: Create a function to create Linear Regression plots\n",
    "\n"
   ]
  },
  {
   "cell_type": "code",
   "execution_count": 48,
   "metadata": {},
   "outputs": [],
   "source": [
    "# Create Northern and Southern Hemisphere DataFrames\n",
    "northern_dat=data.loc[data['Lat'] >0]\n",
    "southern_dat=data.loc[data['Lat']<0]\n",
    "northern_city=northern_dat[\"City\"]\n",
    "southern_city=southern_dat[\"City\"]\n",
    "northern_hum=northern_dat[\"Humidity\"]\n",
    "southern_hum=southern_dat[\"Humidity\"]\n",
    "northern_wind=northern_dat[\"Wind\"]\n",
    "southern_wind=southern_dat[\"Wind\"]\n",
    "northern_cloud=northern_dat[\"Cloud\"]\n",
    "southern_cloud=southern_dat[\"Cloud\"]\n",
    "northern_temp=northern_dat[\"Temp\"]\n",
    "southern_temp=southern_dat[\"Temp\"]\n",
    "northern_lat=northern_dat[\"Lat\"]\n",
    "southern_lat=southern_dat[\"Lat\"]\n",
    "northern_long=northern_dat[\"Lon\"]\n",
    "southern_long=southern_dat[\"Lon\"]"
   ]
  },
  {
   "cell_type": "code",
   "execution_count": 45,
   "metadata": {},
   "outputs": [
    {
     "data": {
      "text/html": [
       "<div>\n",
       "<style scoped>\n",
       "    .dataframe tbody tr th:only-of-type {\n",
       "        vertical-align: middle;\n",
       "    }\n",
       "\n",
       "    .dataframe tbody tr th {\n",
       "        vertical-align: top;\n",
       "    }\n",
       "\n",
       "    .dataframe thead th {\n",
       "        text-align: right;\n",
       "    }\n",
       "</style>\n",
       "<table border=\"1\" class=\"dataframe\">\n",
       "  <thead>\n",
       "    <tr style=\"text-align: right;\">\n",
       "      <th></th>\n",
       "      <th>City</th>\n",
       "      <th>Lon</th>\n",
       "      <th>Lat</th>\n",
       "      <th>Temp</th>\n",
       "      <th>Humidity</th>\n",
       "      <th>Wind</th>\n",
       "      <th>Cloud</th>\n",
       "    </tr>\n",
       "  </thead>\n",
       "  <tbody>\n",
       "    <tr>\n",
       "      <td>1</td>\n",
       "      <td>Hamilton</td>\n",
       "      <td>-84.53</td>\n",
       "      <td>39.18</td>\n",
       "      <td>32.65</td>\n",
       "      <td>89</td>\n",
       "      <td>2.08</td>\n",
       "      <td>90</td>\n",
       "    </tr>\n",
       "    <tr>\n",
       "      <td>2</td>\n",
       "      <td>Rognan</td>\n",
       "      <td>15.39</td>\n",
       "      <td>67.10</td>\n",
       "      <td>23.34</td>\n",
       "      <td>79</td>\n",
       "      <td>38.03</td>\n",
       "      <td>75</td>\n",
       "    </tr>\n",
       "    <tr>\n",
       "      <td>3</td>\n",
       "      <td>Tianpeng</td>\n",
       "      <td>103.94</td>\n",
       "      <td>30.99</td>\n",
       "      <td>44.60</td>\n",
       "      <td>81</td>\n",
       "      <td>4.47</td>\n",
       "      <td>40</td>\n",
       "    </tr>\n",
       "    <tr>\n",
       "      <td>4</td>\n",
       "      <td>Pochutla</td>\n",
       "      <td>-96.47</td>\n",
       "      <td>15.74</td>\n",
       "      <td>78.98</td>\n",
       "      <td>69</td>\n",
       "      <td>9.17</td>\n",
       "      <td>5</td>\n",
       "    </tr>\n",
       "    <tr>\n",
       "      <td>6</td>\n",
       "      <td>Ponta do sol</td>\n",
       "      <td>-17.10</td>\n",
       "      <td>32.67</td>\n",
       "      <td>55.08</td>\n",
       "      <td>71</td>\n",
       "      <td>2.24</td>\n",
       "      <td>20</td>\n",
       "    </tr>\n",
       "    <tr>\n",
       "      <td>...</td>\n",
       "      <td>...</td>\n",
       "      <td>...</td>\n",
       "      <td>...</td>\n",
       "      <td>...</td>\n",
       "      <td>...</td>\n",
       "      <td>...</td>\n",
       "      <td>...</td>\n",
       "    </tr>\n",
       "    <tr>\n",
       "      <td>537</td>\n",
       "      <td>Fortuna</td>\n",
       "      <td>-124.16</td>\n",
       "      <td>40.60</td>\n",
       "      <td>50.22</td>\n",
       "      <td>81</td>\n",
       "      <td>3.36</td>\n",
       "      <td>90</td>\n",
       "    </tr>\n",
       "    <tr>\n",
       "      <td>538</td>\n",
       "      <td>Joshimath</td>\n",
       "      <td>79.57</td>\n",
       "      <td>30.57</td>\n",
       "      <td>30.16</td>\n",
       "      <td>32</td>\n",
       "      <td>7.70</td>\n",
       "      <td>0</td>\n",
       "    </tr>\n",
       "    <tr>\n",
       "      <td>540</td>\n",
       "      <td>Oktyabrskiy</td>\n",
       "      <td>53.47</td>\n",
       "      <td>54.48</td>\n",
       "      <td>3.51</td>\n",
       "      <td>95</td>\n",
       "      <td>5.88</td>\n",
       "      <td>96</td>\n",
       "    </tr>\n",
       "    <tr>\n",
       "      <td>541</td>\n",
       "      <td>Telimele</td>\n",
       "      <td>-13.33</td>\n",
       "      <td>10.92</td>\n",
       "      <td>67.08</td>\n",
       "      <td>25</td>\n",
       "      <td>1.79</td>\n",
       "      <td>54</td>\n",
       "    </tr>\n",
       "    <tr>\n",
       "      <td>542</td>\n",
       "      <td>Severo-kurilsk</td>\n",
       "      <td>156.12</td>\n",
       "      <td>50.68</td>\n",
       "      <td>22.37</td>\n",
       "      <td>88</td>\n",
       "      <td>11.25</td>\n",
       "      <td>89</td>\n",
       "    </tr>\n",
       "  </tbody>\n",
       "</table>\n",
       "<p>366 rows × 7 columns</p>\n",
       "</div>"
      ],
      "text/plain": [
       "               City     Lon    Lat   Temp  Humidity   Wind  Cloud\n",
       "1          Hamilton  -84.53  39.18  32.65        89   2.08     90\n",
       "2            Rognan   15.39  67.10  23.34        79  38.03     75\n",
       "3          Tianpeng  103.94  30.99  44.60        81   4.47     40\n",
       "4          Pochutla  -96.47  15.74  78.98        69   9.17      5\n",
       "6      Ponta do sol  -17.10  32.67  55.08        71   2.24     20\n",
       "..              ...     ...    ...    ...       ...    ...    ...\n",
       "537         Fortuna -124.16  40.60  50.22        81   3.36     90\n",
       "538       Joshimath   79.57  30.57  30.16        32   7.70      0\n",
       "540     Oktyabrskiy   53.47  54.48   3.51        95   5.88     96\n",
       "541        Telimele  -13.33  10.92  67.08        25   1.79     54\n",
       "542  Severo-kurilsk  156.12  50.68  22.37        88  11.25     89\n",
       "\n",
       "[366 rows x 7 columns]"
      ]
     },
     "execution_count": 45,
     "metadata": {},
     "output_type": "execute_result"
    }
   ],
   "source": [
    "northern_dat"
   ]
  },
  {
   "cell_type": "markdown",
   "metadata": {},
   "source": [
    "####  Northern Hemisphere - Max Temp vs. Latitude Linear Regression"
   ]
  },
  {
   "cell_type": "code",
   "execution_count": 99,
   "metadata": {},
   "outputs": [
    {
     "data": {
      "image/png": "[encoded data removed]",
      "text/plain": [
       "<Figure size 432x288 with 1 Axes>"
      ]
     },
     "metadata": {
      "needs_background": "light"
     },
     "output_type": "display_data"
    }
   ],
   "source": [
    "NHTL=pd.DataFrame({\"Temperature\":[a for a in northern_temp],\n",
    "                   \"Latitude\":[b for b in northern_lat]\n",
    "                    })\n",
    "y=NHTL[\"Temperature\"]\n",
    "x=NHTL[\"Latitude\"]\n",
    "(slope, intercept, rvalue, pvalue, stderr) = linregress(x, y)\n",
    "regress_values = x * slope + intercept\n",
    "line_eq = \"y = \" + str(round(slope,2)) + \"x + \" + str(round(intercept,2))\n",
    "plt.scatter(x,y)\n",
    "plt.plot(x, regress_values,\"r-\")\n",
    "plt.annotate(line_eq,(6,10),fontsize=15,color=\"red\")\n",
    "plt.ylabel('Temperature')\n",
    "plt.xlabel('Latitude')\n",
    "plt.title(\"Temp vs. Latitude Northern Hemisphere\")\n",
    "\n",
    "plt.show()"
   ]
  },
  {
   "cell_type": "markdown",
   "metadata": {},
   "source": [
    "####  Southern Hemisphere - Max Temp vs. Latitude Linear Regression"
   ]
  },
  {
   "cell_type": "code",
   "execution_count": 100,
   "metadata": {},
   "outputs": [
    {
     "data": {
      "image/png": "[encoded data removed]",
      "text/plain": [
       "<Figure size 432x288 with 1 Axes>"
      ]
     },
     "metadata": {
      "needs_background": "light"
     },
     "output_type": "display_data"
    }
   ],
   "source": [
    "SHTL=pd.DataFrame({\"Temperature\":[a for a in southern_temp],\n",
    "                   \"Latitude\":[b for b in southern_lat]\n",
    "                    })\n",
    "y=SHTL[\"Temperature\"]\n",
    "x=SHTL[\"Latitude\"]\n",
    "(slope, intercept, rvalue, pvalue, stderr) = linregress(x, y)\n",
    "regress_values = x * slope + intercept\n",
    "line_eq = \"y = \" + str(round(slope,2)) + \"x + \" + str(round(intercept,2))\n",
    "plt.scatter(x,y)\n",
    "plt.plot(x, regress_values,\"r-\")\n",
    "plt.annotate(line_eq,(6,10),fontsize=15,color=\"red\")\n",
    "plt.ylabel('Temperature')\n",
    "plt.xlabel('Latitude')\n",
    "plt.title(\"Temp vs. Latitude Southern Hemisphere\")\n",
    "plt.show()"
   ]
  },
  {
   "cell_type": "markdown",
   "metadata": {},
   "source": [
    "####  Northern Hemisphere - Humidity (%) vs. Latitude Linear Regression"
   ]
  },
  {
   "cell_type": "code",
   "execution_count": 101,
   "metadata": {},
   "outputs": [
    {
     "data": {
      "image/png": "[encoded data removed]",
      "text/plain": [
       "<Figure size 432x288 with 1 Axes>"
      ]
     },
     "metadata": {
      "needs_background": "light"
     },
     "output_type": "display_data"
    }
   ],
   "source": [
    "NHHL=pd.DataFrame({\"Humidity\":[a for a in northern_hum],\n",
    "                   \"Latitude\":[b for b in northern_lat]\n",
    "                    })\n",
    "\n",
    "y=NHHL[\"Humidity\"]\n",
    "x=NHHL[\"Latitude\"]\n",
    "(slope, intercept, rvalue, pvalue, stderr) = linregress(x, y)\n",
    "regress_values = x * slope + intercept\n",
    "line_eq = \"y = \" + str(round(slope,2)) + \"x + \" + str(round(intercept,2))\n",
    "plt.scatter(x,y)\n",
    "plt.plot(x, regress_values,\"r-\")\n",
    "plt.annotate(line_eq,(6,10),fontsize=15,color=\"red\")\n",
    "plt.ylabel('Humidity')\n",
    "plt.xlabel('Latitude')\n",
    "plt.title(\"Humidity vs. Latitude Northern Hemisphere\")\n",
    "plt.show()"
   ]
  },
  {
   "cell_type": "markdown",
   "metadata": {},
   "source": [
    "####  Southern Hemisphere - Humidity (%) vs. Latitude Linear Regression"
   ]
  },
  {
   "cell_type": "code",
   "execution_count": 102,
   "metadata": {},
   "outputs": [
    {
     "data": {
      "image/png": "[encoded data removed]",
      "text/plain": [
       "<Figure size 432x288 with 1 Axes>"
      ]
     },
     "metadata": {
      "needs_background": "light"
     },
     "output_type": "display_data"
    }
   ],
   "source": [
    "SHHL=pd.DataFrame({\"Humidity\":[a for a in southern_hum],\n",
    "                   \"Latitude\":[b for b in southern_lat]\n",
    "                    })\n",
    "\n",
    "y=SHHL[\"Humidity\"]\n",
    "x=SHHL[\"Latitude\"]\n",
    "(slope, intercept, rvalue, pvalue, stderr) = linregress(x, y)\n",
    "regress_values = x * slope + intercept\n",
    "line_eq = \"y = \" + str(round(slope,2)) + \"x + \" + str(round(intercept,2))\n",
    "plt.scatter(x,y)\n",
    "plt.plot(x, regress_values,\"r-\")\n",
    "plt.annotate(line_eq,(6,10),fontsize=15,color=\"red\")\n",
    "plt.ylabel('Humidity')\n",
    "plt.xlabel('Latitude')\n",
    "plt.title(\"Humidity vs. Latitude Southern Hemisphere\")\n",
    "\n",
    "plt.show()"
   ]
  },
  {
   "cell_type": "markdown",
   "metadata": {},
   "source": [
    "####  Northern Hemisphere - Cloudiness (%) vs. Latitude Linear Regression"
   ]
  },
  {
   "cell_type": "code",
   "execution_count": 103,
   "metadata": {},
   "outputs": [
    {
     "data": {
      "image/png": "[encoded data removed]",
      "text/plain": [
       "<Figure size 432x288 with 1 Axes>"
      ]
     },
     "metadata": {
      "needs_background": "light"
     },
     "output_type": "display_data"
    }
   ],
   "source": [
    "NHCL=pd.DataFrame({\"Cloudiness\":[a for a in northern_cloud],\n",
    "                   \"Latitude\":[b for b in northern_lat]\n",
    "                    })\n",
    "y=NHCL[\"Cloudiness\"]\n",
    "x=NHCL[\"Latitude\"]\n",
    "(slope, intercept, rvalue, pvalue, stderr) = linregress(x, y)\n",
    "regress_values = x * slope + intercept\n",
    "line_eq = \"y = \" + str(round(slope,2)) + \"x + \" + str(round(intercept,2))\n",
    "plt.scatter(x,y)\n",
    "plt.plot(x, regress_values,\"r-\")\n",
    "plt.annotate(line_eq,(6,10),fontsize=15,color=\"red\")\n",
    "plt.ylabel('Cloudiness')\n",
    "plt.xlabel('Latitude')\n",
    "plt.title(\"Cloudiness vs. Latitude Northern Hemisphere\")\n",
    "plt.show()"
   ]
  },
  {
   "cell_type": "markdown",
   "metadata": {},
   "source": [
    "####  Southern Hemisphere - Cloudiness (%) vs. Latitude Linear Regression"
   ]
  },
  {
   "cell_type": "code",
   "execution_count": 104,
   "metadata": {},
   "outputs": [
    {
     "data": {
      "image/png": "[encoded data removed]",
      "text/plain": [
       "<Figure size 432x288 with 1 Axes>"
      ]
     },
     "metadata": {
      "needs_background": "light"
     },
     "output_type": "display_data"
    }
   ],
   "source": [
    "SHCL=pd.DataFrame({\"Cloudiness\":[a for a in southern_cloud],\n",
    "                   \"Latitude\":[b for b in southern_lat]\n",
    "                    })\n",
    "y=SHCL[\"Cloudiness\"]\n",
    "x=SHCL[\"Latitude\"]\n",
    "(slope, intercept, rvalue, pvalue, stderr) = linregress(x, y)\n",
    "regress_values = x * slope + intercept\n",
    "line_eq = \"y = \" + str(round(slope,2)) + \"x + \" + str(round(intercept,2))\n",
    "plt.scatter(x,y)\n",
    "plt.plot(x, regress_values,\"r-\")\n",
    "plt.annotate(line_eq,(6,10),fontsize=15,color=\"red\")\n",
    "plt.ylabel('Cloudiness')\n",
    "plt.xlabel('Latitude')\n",
    "plt.title(\"Cloudiness vs. Latitude Southern Hemisphere\")\n",
    "\n",
    "\n",
    "plt.show()"
   ]
  },
  {
   "cell_type": "markdown",
   "metadata": {},
   "source": [
    "####  Northern Hemisphere - Wind Speed (mph) vs. Latitude Linear Regression"
   ]
  },
  {
   "cell_type": "code",
   "execution_count": 105,
   "metadata": {},
   "outputs": [
    {
     "data": {
      "image/png": "[encoded data removed]",
      "text/plain": [
       "<Figure size 432x288 with 1 Axes>"
      ]
     },
     "metadata": {
      "needs_background": "light"
     },
     "output_type": "display_data"
    }
   ],
   "source": [
    "NHWL=pd.DataFrame({\"Wind Speed\":[a for a in northern_wind],\n",
    "                   \"Latitude\":[b for b in northern_lat]\n",
    "                    })\n",
    "y=NHWL[\"Wind Speed\"]\n",
    "x=NHWL[\"Latitude\"]\n",
    "(slope, intercept, rvalue, pvalue, stderr) = linregress(x, y)\n",
    "regress_values = x * slope + intercept\n",
    "line_eq = \"y = \" + str(round(slope,2)) + \"x + \" + str(round(intercept,2))\n",
    "plt.scatter(x,y)\n",
    "plt.plot(x, regress_values,\"r-\")\n",
    "plt.annotate(line_eq,(6,10),fontsize=15,color=\"red\")\n",
    "plt.ylabel('Wind Speed')\n",
    "plt.xlabel(\"Latitude\")\n",
    "plt.title(\"Wind Speed vs. Latitude Northern Hemisphere\")\n",
    "\n",
    "plt.show()"
   ]
  },
  {
   "cell_type": "markdown",
   "metadata": {},
   "source": [
    "####  Southern Hemisphere - Wind Speed (mph) vs. Latitude Linear Regression"
   ]
  },
  {
   "cell_type": "code",
   "execution_count": 106,
   "metadata": {},
   "outputs": [
    {
     "data": {
      "image/png": "[encoded data removed]",
      "text/plain": [
       "<Figure size 432x288 with 1 Axes>"
      ]
     },
     "metadata": {
      "needs_background": "light"
     },
     "output_type": "display_data"
    }
   ],
   "source": [
    "SHWL=pd.DataFrame({\"Wind Speed\":[a for a in southern_wind],\n",
    "                   \"Latitude\":[b for b in southern_lat]\n",
    "                    })\n",
    "y=SHWL[\"Wind Speed\"]\n",
    "x=SHWL[\"Latitude\"]\n",
    "(slope, intercept, rvalue, pvalue, stderr) = linregress(x, y)\n",
    "regress_values = x * slope + intercept\n",
    "line_eq = \"y = \" + str(round(slope,2)) + \"x + \" + str(round(intercept,2))\n",
    "plt.scatter(x,y)\n",
    "plt.plot(x, regress_values,\"r-\")\n",
    "plt.annotate(line_eq,(6,10),fontsize=15,color=\"red\")\n",
    "plt.ylabel('Wind Speed')\n",
    "plt.xlabel(\"Latitude\")\n",
    "plt.title(\"Wind Speed vs. Latitude Southern Hemisphere\")\n",
    "plt.show()"
   ]
  },
  {
   "cell_type": "code",
   "execution_count": null,
   "metadata": {},
   "outputs": [],
   "source": []
  }
 ],
 "metadata": {
  "anaconda-cloud": {},
  "kernel_info": {
   "name": "python3"
  },
  "kernelspec": {
   "display_name": "Python 3",
   "language": "python",
   "name": "python3"
  },
  "language_info": {
   "codemirror_mode": {
    "name": "ipython",
    "version": 3
   },
   "file_extension": ".py",
   "mimetype": "text/x-python",
   "name": "python",
   "nbconvert_exporter": "python",
   "pygments_lexer": "ipython3",
   "version": "3.7.4"
  },
  "latex_envs": {
   "LaTeX_envs_menu_present": true,
   "autoclose": false,
   "autocomplete": true,
   "bibliofile": "biblio.bib",
   "cite_by": "apalike",
   "current_citInitial": 1,
   "eqLabelWithNumbers": true,
   "eqNumInitial": 1,
   "hotkeys": {
    "equation": "Ctrl-E",
    "itemize": "Ctrl-I"
   },
   "labels_anchors": false,
   "latex_user_defs": false,
   "report_style_numbering": false,
   "user_envs_cfg": false
  },
  "nteract": {
   "version": "0.12.3"
  }
 },
 "nbformat": 4,
 "nbformat_minor": 2
}
