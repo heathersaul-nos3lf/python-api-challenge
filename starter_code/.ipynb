{
 "cells": [
  {
   "cell_type": "markdown",
   "metadata": {},
   "source": [
    "# WeatherPy\n",
    "----\n",
    "\n",
    "#### Note\n",
    "* Instructions have been included for each segment. You do not have to follow them exactly, but they are included to help you think through the steps."
   ]
  },
  {
   "cell_type": "code",
   "execution_count": 1,
   "metadata": {
    "scrolled": true
   },
   "outputs": [],
   "source": [
    "# Dependencies and Setup\n",
    "import matplotlib.pyplot as plt\n",
    "import pandas as pd\n",
    "import numpy as np\n",
    "import requests\n",
    "import time\n",
    "import random\n",
    "from scipy.stats import linregress\n",
    "from pprint import pprint\n",
    "\n",
    "# Import API key\n",
    "from api_keys import weather_api_key\n",
    "\n",
    "# Incorporated citipy to determine city based on latitude and longitude\n",
    "from citipy import citipy\n",
    "\n",
    "# Output File (CSV)\n",
    "output_data_file = \"output_data/cities.csv\"\n",
    "\n",
    "# Range of latitudes and longitudes\n",
    "lat_range = (-90, 90)\n",
    "lng_range = (-180, 180)"
   ]
  },
  {
   "cell_type": "markdown",
   "metadata": {},
   "source": [
    "## Generate Cities List"
   ]
  },
  {
   "cell_type": "code",
   "execution_count": 2,
   "metadata": {},
   "outputs": [
    {
     "data": {
      "text/plain": [
       "605"
      ]
     },
     "execution_count": 2,
     "metadata": {},
     "output_type": "execute_result"
    }
   ],
   "source": [
    "lat_lngs = []\n",
    "cities = []\n",
    "\n",
    "# Create a set of random lat and lng combinations\n",
    "lats = np.random.uniform(low=-90.000, high=90.000, size=1500)\n",
    "lngs = np.random.uniform(low=-180.000, high=180.000, size=1500)\n",
    "lat_lngs = zip(lats, lngs)\n",
    "\n",
    "# Identify nearest city for each lat, lng combination\n",
    "for lat_lng in lat_lngs:\n",
    "    city = citipy.nearest_city(lat_lng[0], lat_lng[1]).city_name\n",
    "    \n",
    "    # If the city is unique, then add it to a our cities list\n",
    "    if city not in cities:\n",
    "        cities.append(city)\n",
    "\n",
    "# Print the city count to confirm sufficient count\n",
    "len(cities)"
   ]
  },
  {
   "cell_type": "code",
   "execution_count": 3,
   "metadata": {},
   "outputs": [],
   "source": [
    "indx_list = [*range(1,525)]\n",
    "city_list=[]\n",
    "random.shuffle(indx_list)\n",
    "for j in range(0,len(indx_list)):\n",
    "    city_list.append(cities[indx_list[j]].capitalize())\n"
   ]
  },
  {
   "cell_type": "code",
   "execution_count": 4,
   "metadata": {},
   "outputs": [
    {
     "data": {
      "text/plain": [
       "'757587e0b8932ab68204e1935cbf5671'"
      ]
     },
     "execution_count": 4,
     "metadata": {},
     "output_type": "execute_result"
    }
   ],
   "source": [
    "weather_api_key"
   ]
  },
  {
   "cell_type": "code",
   "execution_count": 5,
   "metadata": {},
   "outputs": [
    {
     "data": {
      "text/plain": [
       "'http://api.openweathermap.org/data/2.5/weather?appid=757587e0b8932ab68204e1935cbf5671&units=imperial&q='"
      ]
     },
     "execution_count": 5,
     "metadata": {},
     "output_type": "execute_result"
    }
   ],
   "source": [
    "url = \"http://api.openweathermap.org/data/2.5/weather?\"\n",
    "units = \"imperial\"\n",
    "query_url = f\"{url}appid={weather_api_key}&units={units}&q=\"\n",
    "query_url"
   ]
  },
  {
   "cell_type": "code",
   "execution_count": 6,
   "metadata": {},
   "outputs": [
    {
     "data": {
      "text/plain": [
       "{'cod': '404', 'message': 'city not found'}"
      ]
     },
     "execution_count": 6,
     "metadata": {},
     "output_type": "execute_result"
    }
   ],
   "source": [
    "response=requests.get(query_url+'yjaris').json()\n",
    "a1=response.keys()\n",
    "list(a1)\n",
    "response"
   ]
  },
  {
   "cell_type": "markdown",
   "metadata": {},
   "source": [
    "### Perform API Calls\n",
    "* Perform a weather check on each city using a series of successive API calls.\n",
    "* Include a print log of each city as it'sbeing processed (with the city number and city name).\n"
   ]
  },
  {
   "cell_type": "code",
   "execution_count": 7,
   "metadata": {},
   "outputs": [
    {
     "name": "stdout",
     "output_type": "stream",
     "text": [
      "Eydhafushi 1337606\n",
      "Lorengau 2092164\n",
      "city not found\n",
      "Verkhnetulomskiy 475469\n",
      "Pangnirtung 6096551\n",
      "Tigzirt 2476660\n",
      "La ronge 6050066\n",
      "Gaurnadi 1185210\n",
      "Sungaipenuh 1625929\n",
      "Geraldton 2070998\n",
      "Pangoa 3933104\n",
      "Mwense 902721\n",
      "Ribeira grande 3372707\n",
      "city not found\n",
      "Cherskiy 2126199\n",
      "Cururupu 3401148\n",
      "Calama 3897347\n",
      "Ibra 287832\n",
      "Beringovskiy 2126710\n",
      "Fortuna 5563839\n",
      "Esperance 2071860\n",
      "Victoria 1819729\n",
      "East london 1006984\n",
      "city not found\n",
      "Puerto baquerizo moreno 3652758\n",
      "Sabha 2212775\n",
      "Benguela 3351663\n",
      "Medea 2488835\n",
      "city not found\n",
      "Acarau 3408368\n",
      "Curuca 3401188\n",
      "Idrinskoye 1505998\n",
      "Pisco 3932145\n",
      "city not found\n",
      "Neiafu 4032420\n",
      "Moss vale 2156777\n",
      "Hasaki 2112802\n",
      "Noumea 2139521\n",
      "Binika 1275558\n",
      "Santa maria 3450083\n",
      "Warrnambool 2144528\n",
      "Fengzhen 2037391\n",
      "Poronaysk 2121909\n",
      "Zabid 69500\n",
      "Boca do acre 3664956\n",
      "Richards bay 962367\n",
      "Goundam 2456917\n",
      "Thompson 6165406\n",
      "Guerrero negro 4021858\n",
      "city not found\n",
      "Halifax 6324729\n",
      "Esso 2125711\n",
      "Itaquyry 3437920\n",
      "Atar 2381334\n",
      "Upernavik 3418910\n",
      "Acuitzio 4000821\n",
      "Guiratinga 3461733\n",
      "Santiago 3871336\n",
      "Chara 2025630\n",
      "Talnakh 1490256\n",
      "Cape town 3369157\n",
      "Barrow 5880054\n",
      "Saint anthony 5044290\n",
      "Morganton 4480219\n",
      "Aranos 3358666\n",
      "Tazovskiy 1489853\n",
      "Bethel 5282297\n",
      "Khandyga 2022773\n",
      "Buala 2109528\n",
      "Dali 1814093\n",
      "Provideniya 4031574\n",
      "Xining 1788852\n",
      "Acapulco 3533462\n",
      "Yelan 468063\n",
      "Amazar 2027806\n",
      "Havelock 4470244\n",
      "Carnarvon 2074865\n",
      "Naron 3115739\n",
      "Okakarara 3354876\n",
      "city not found\n",
      "Svetlyy 485660\n",
      "Kamenka 553766\n",
      "Mozarlandia 3456642\n",
      "Malatya 304919\n",
      "Lavrentiya 4031637\n",
      "Saint stephen 2638698\n",
      "Meadow lake 5478673\n",
      "Leningradskiy 2123814\n",
      "Ossora 2122389\n",
      "Tayu 1624545\n",
      "Indiana 4921868\n",
      "Banda aceh 1215502\n",
      "Kaitangata 2208248\n",
      "Anadyr 2127202\n",
      "city not found\n",
      "Aparan 616953\n",
      "Coban 3598119\n",
      "Iruma 1863440\n",
      "Le port 935616\n",
      "Berlevag 780687\n",
      "Saurimo 145531\n",
      "Pandan 1695546\n",
      "Desbiens 7535694\n",
      "Hanyang 1798537\n",
      "city not found\n",
      "Yumen 1528998\n",
      "San rafael 3836669\n",
      "Jishou 1805270\n",
      "Moratuwa 1234633\n",
      "Cascais 2269594\n",
      "Katangli 2122783\n",
      "Gravdal 3155152\n",
      "Marsh harbour 3571913\n",
      "Envigado 3682631\n",
      "Diamantina 3464728\n",
      "city not found\n",
      "Chuguyevka 2025286\n",
      "Westport 4845585\n",
      "Severo-kurilsk 2121385\n",
      "Gaeta 6542094\n",
      "Kavieng 2094342\n",
      "Marzuq 72181\n",
      "Kargat 1504380\n",
      "Souillac 933995\n",
      "Husavik 2629833\n",
      "Lebu 3883457\n",
      "Nacala 1035025\n",
      "Port hardy 6111862\n",
      "Olinda 3393536\n",
      "Chhatak 1185254\n",
      "Santa cruz 3904906\n",
      "Fairbanks 5861897\n",
      "Pyaozerskiy 503581\n",
      "Labuan 1733782\n",
      "Urusha 2014078\n",
      "Saint george 5546220\n",
      "Kailua 5847486\n",
      "Rudbar 1128239\n",
      "Hovd 1516048\n",
      "Fort nelson 5955902\n",
      "Ghanzi 933759\n",
      "city not found\n",
      "Mizdah 2214827\n",
      "Khangah dogran 1174217\n",
      "Mpanda 153176\n",
      "Ville-marie 6174335\n",
      "Olean 5129780\n",
      "Soyo 2236967\n",
      "Cafarnaum 3468314\n",
      "Butaritari 2110227\n",
      "Byron bay 2172880\n",
      "Vasterhaninge 2664339\n",
      "city not found\n",
      "city not found\n",
      "Sola 2134814\n",
      "Cabo san lucas 3985710\n",
      "Vila franca do campo 3372472\n",
      "Los llanos de aridane 2514651\n",
      "Hofn 2630299\n",
      "Acajutla 3587498\n",
      "Erzin 296852\n",
      "Naryan-mar 523392\n",
      "Saldanha 3361934\n",
      "Dingle 1714733\n",
      "Tchamba 2363908\n",
      "city not found\n",
      "Paka 1734313\n",
      "Vestmannaeyjar 3412093\n",
      "Poladpur 1264489\n",
      "Christchurch 2192362\n",
      "Punta arenas 3874787\n",
      "Palm valley 4167601\n",
      "city not found\n",
      "Waddan 2209055\n",
      "Constitucion 3893726\n",
      "city not found\n",
      "Umm lajj 100926\n",
      "Pacific grove 5380437\n",
      "Tessalit 2449893\n",
      "Makakilo city 5850554\n",
      "Mehran 124291\n",
      "Cayenne 3382160\n",
      "city not found\n",
      "Bathsheba 3374083\n",
      "Mayna 528278\n",
      "Callaway 4149635\n",
      "Zhigansk 2012530\n",
      "Rikitea 4030556\n",
      "Puerto ayora 3652764\n",
      "Ambatondrazaka 1082639\n",
      "Artyom 587207\n",
      "Asyut 359783\n",
      "Kruisfontein 986717\n",
      "Bubaque 2374583\n",
      "Hithadhoo 1282256\n",
      "Warmbad 3352263\n",
      "Cockburn town 3576994\n",
      "Aquiraz 3407407\n",
      "Arkansas city 4267661\n",
      "Paamiut 3421193\n",
      "city not found\n",
      "Sambava 1056899\n",
      "Clyde river 5924351\n",
      "Tayturka 2015428\n",
      "Groningen 2755249\n",
      "Duluth 5024719\n",
      "Katsuura 2112309\n",
      "Colon 3712076\n",
      "Strezhevoy 1490796\n",
      "Beruwala 1249931\n",
      "Charlestown 2171766\n",
      "Caravelas 3466980\n",
      "Beloha 1067565\n",
      "city not found\n",
      "Codrington 2171099\n",
      "Arraial do cabo 3471451\n",
      "Poum 2138555\n",
      "Sampit 1628884\n",
      "Vadlapudi 1253578\n",
      "Urumqi 1529102\n",
      "Gondar 336014\n",
      "Juigalpa 3618908\n",
      "Ambilobe 1082243\n",
      "Pevek 2122090\n",
      "San juan 3837213\n",
      "city not found\n",
      "Mandalgovi 2030065\n",
      "Port lincoln 2063036\n",
      "Yanai 1848550\n",
      "Ancud 3899695\n",
      "Itarema 3393692\n",
      "Nome 5870133\n",
      "Tasiilaq 3424607\n",
      "Iqaluit 5983720\n",
      "Hilo 5855927\n",
      "Bosaso 64013\n",
      "Hobart 2163355\n",
      "Trofors 3133983\n",
      "Tiksi 2015306\n",
      "Coihaique 3894426\n",
      "Spas-demensk 489868\n",
      "Merauke 2082539\n",
      "Evensk 2125693\n",
      "Kapaa 5848280\n",
      "Mbandaka 2312895\n",
      "city not found\n",
      "Burnie 2173125\n",
      "Cartagena 3687238\n",
      "Jalu 86049\n",
      "Rock sound 3571592\n",
      "city not found\n",
      "Baculin 1729469\n",
      "city not found\n",
      "Tanete 1629965\n",
      "Goderich 5962442\n",
      "Unguia 3666475\n",
      "Meulaboh 1214488\n",
      "Ixtapa 4004293\n",
      "Komsomolskiy 1513491\n",
      "Phangnga 1151464\n",
      "city not found\n",
      "Bilibino 2126682\n",
      "Tautira 4033557\n",
      "Hay river 5972762\n",
      "Kahului 5847411\n",
      "Ahipara 2194098\n",
      "Lasa 3175096\n",
      "city not found\n",
      "Galway 2964180\n",
      "Jackson 5733351\n",
      "Camaqua 3468014\n",
      "Yulara 6355222\n",
      "Kholtoson 2022369\n",
      "Ginda 1253628\n",
      "Bredasdorp 1015776\n",
      "Riyadh 108410\n",
      "Dolores 3435038\n",
      "Fomboni 921889\n",
      "Lake havasu city 5301388\n",
      "Jiaonan 1792087\n",
      "Slavutych 6930327\n",
      "Hanzhong 1808857\n",
      "Kalakamati 933390\n",
      "Vaini 4032243\n",
      "Nyurba 2018735\n",
      "Port alfred 964432\n",
      "Salekhard 1493197\n",
      "Kodiak 5866583\n",
      "Jinxiang 1916249\n",
      "Leh 1264976\n",
      "Hamilton 4513583\n",
      "Narsaq 3421719\n",
      "Nanortalik 3421765\n",
      "Mitsamiouli 921786\n",
      "city not found\n",
      "Torbay 6167817\n",
      "city not found\n",
      "San jose 5392171\n",
      "Chernenko 839658\n",
      "Kapit 1737185\n",
      "Tutoia 3385899\n",
      "Erenhot 2037485\n",
      "Saint-philippe 935215\n",
      "Adrar 2381972\n",
      "Santa vitoria do palmar 3449747\n",
      "Bucerias 4016734\n",
      "Yoichi 2129218\n",
      "Sao filipe 3374210\n",
      "Chokurdakh 2126123\n",
      "Voi 178522\n",
      "Ostrovnoy 556268\n",
      "Auki 2109701\n",
      "Vila velha 3445026\n",
      "Ayorou 2447416\n",
      "city not found\n",
      "Aransas pass 4671141\n",
      "Kharan 1174062\n",
      "city not found\n",
      "Ginir 336454\n",
      "Ponta do sol 2264557\n",
      "Santa maria del tule 3517254\n",
      "San patricio 3985168\n",
      "Nabire 1634614\n",
      "city not found\n",
      "Ambon 1651531\n",
      "Ishinomaki 2112576\n",
      "Minsk 625144\n",
      "Kristiinankaupunki 650769\n",
      "Boddam 2655288\n",
      "Santa isabel do rio negro 3662489\n",
      "Busselton 2075265\n",
      "Verkhnyaya inta 1487332\n",
      "Kongolo 212360\n",
      "Kavaratti 1267390\n",
      "Qaanaaq 3831208\n",
      "Florianopolis 6323121\n",
      "Touros 3386213\n",
      "Mattru 2409215\n",
      "city not found\n",
      "Ruteng 1629380\n",
      "Albany 5106841\n",
      "Mikumi 153871\n",
      "Kaspiyskiy 551846\n",
      "Yar-sale 1486321\n",
      "Dubbo 2168305\n",
      "Shingu 1847947\n",
      "Affery 2288118\n",
      "Khasan 2039557\n",
      "Samarai 2132606\n",
      "Wangaratta 2144764\n",
      "Bardiyah 80509\n",
      "Kulhudhuffushi 1337613\n",
      "Nikolskoye 546105\n",
      "Atuona 4020109\n",
      "Mahebourg 934322\n",
      "Shimoda 1852357\n",
      "Pocoes 3453337\n",
      "Nacogdoches 4713738\n",
      "Micheweni 153955\n",
      "Hambantota 1244926\n",
      "Bonavista 5905393\n",
      "Khatanga 2022572\n",
      "Yellowknife 6185377\n",
      "Bambous virieux 1106677\n",
      "Orchard homes 5670128\n",
      "West monroe 4345850\n",
      "Srednekolymsk 2121025\n",
      "Nizwa 286987\n",
      "Deputatskiy 2028164\n",
      "Illapel 3887344\n",
      "Dhidhdhoo 1337612\n",
      "Mount gambier 2156643\n",
      "Atbasar 1526038\n",
      "Castro 3466704\n",
      "Kindu 212902\n",
      "Rawson 3839307\n",
      "Xochistlahuaca 3514440\n",
      "Wahpeton 5062355\n",
      "Honiara 2108502\n",
      "Tupik 2014836\n",
      "Marawi 1701054\n",
      "Broome 5110365\n",
      "Puerto leguizamo 3671437\n",
      "Mount isa 2065594\n",
      "Rocha 3440777\n",
      "Karasjok 779350\n",
      "Dunedin 2191562\n",
      "Lata 2738381\n",
      "Tuatapere 2180815\n",
      "Kalmunai 1242110\n",
      "Mayo 4362001\n",
      "Tara 1490140\n",
      "city not found\n",
      "Diego de almagro 3892454\n",
      "city not found\n",
      "Hami 1529484\n",
      "Bastogne 2802583\n",
      "Saquena 3692020\n",
      "Ayna 3946962\n",
      "Belorechensk 577893\n",
      "Pontevedra 3113209\n",
      "Grand gaube 934479\n",
      "Tuktoyaktuk 6170031\n",
      "Paracin 787215\n",
      "Kupang 2057087\n",
      "Bengkulu 1649150\n",
      "Sitka 5557293\n",
      "Lengshuijiang 1804169\n",
      "Strathmore 6158023\n",
      "city not found\n",
      "Harper 2276492\n",
      "Maniitsoq 3421982\n",
      "Olafsvik 3414079\n",
      "Roald 3141667\n",
      "Kautokeino 779330\n",
      "Abohar 1279403\n",
      "Hemsedal 3152989\n",
      "Orcopampa 3933986\n",
      "Kirakira 2178753\n",
      "Naze 1855540\n",
      "Moga 1262951\n",
      "Sisimiut 3419842\n",
      "Cidreira 3466165\n",
      "Maymyo 1309937\n",
      "Itaituba 3397967\n",
      "Te anau 2181625\n",
      "San ramon 5392593\n",
      "Isangel 2136825\n",
      "Alcudia 2522091\n",
      "Durazno 3442727\n",
      "city not found\n",
      "Broken hill 2173911\n",
      "Beibei 1816790\n",
      "Kysyl-syr 2021017\n",
      "Port augusta 2063056\n",
      "Doha 290030\n",
      "Oranjestad 3577154\n",
      "Pullman 5807540\n",
      "Nizhniy kuranakh 2019135\n",
      "Port elizabeth 964420\n",
      "Avarua 4035715\n",
      "Tecoanapa 3516171\n",
      "Faanui 4034551\n",
      "Honningsvag 779554\n",
      "Tommot 2015179\n",
      "Ballina 2177069\n",
      "city not found\n",
      "city not found\n",
      "city not found\n",
      "Bawku 2303287\n",
      "Carbajales 3614113\n",
      "city not found\n",
      "Alofi 4036284\n",
      "Hunterville 2189630\n",
      "New norfolk 2155415\n",
      "North bend 5742974\n",
      "city not found\n",
      "Krasnoshchekovo 1502066\n",
      "Ribeirao das neves 3451353\n",
      "Vostok 2013279\n",
      "Severnoye 1492607\n",
      "Klaksvik 2618795\n",
      "Koslan 544084\n",
      "Dikson 1507390\n",
      "Charagua 3921141\n",
      "Wanning 1791779\n",
      "Faya 110690\n",
      "Bandar-e lengeh 141665\n",
      "Road town 3577430\n",
      "Waterfoot 2655237\n",
      "Georgetown 1735106\n",
      "Billings 5640350\n",
      "Luderitz 3355672\n",
      "city not found\n",
      "Airai 1651810\n",
      "Casa nova 3402621\n",
      "Fereydun kenar 134602\n",
      "Abha 110690\n",
      "Namibe 3347019\n",
      "Lompoc 5367788\n",
      "Madimba 878141\n",
      "Chuy 3443061\n",
      "Escalerillas 4006677\n",
      "Chapais 5919850\n",
      "Ust-ilimsk 2013952\n"
     ]
    },
    {
     "name": "stdout",
     "output_type": "stream",
     "text": [
      "Khanna 1267016\n",
      "Mar del plata 3430863\n",
      "Hermanus 3366880\n",
      "Verkhnevilyuysk 2013639\n",
      "Trunovskoye 481181\n",
      "Monze 906044\n",
      "Mataura 6201424\n",
      "Tura 1254046\n",
      "Walvis bay 3359638\n",
      "city not found\n",
      "Prata 3452440\n",
      "Simbahan 1695180\n",
      "Vestmanna 2610343\n",
      "Jamestown 5122534\n",
      "Trairi 3386177\n",
      "Bluff 2206939\n",
      "Mandurah 2067119\n",
      "Norman wells 6089245\n",
      "Ilulissat 3423146\n",
      "Ban nahin 1661950\n",
      "Freeport 5117949\n",
      "Bilma 2446796\n",
      "Anderson 4569313\n",
      "Bida 2347209\n",
      "Hammerfest 779683\n",
      "Dorado 4564133\n",
      "Qingdao 1797929\n",
      "Urucui 3385658\n",
      "Omboue 2396853\n",
      "Baruun-urt 2032614\n",
      "Saskylakh 2017155\n",
      "Angoche 1052944\n",
      "city not found\n",
      "Tiznit 2527087\n",
      "Porto san giorgio 3170073\n",
      "Muyezerskiy 524100\n",
      "Longyearbyen 2729907\n",
      "Palmer 4946620\n",
      "Port macquarie 2152659\n"
     ]
    }
   ],
   "source": [
    "temp=[]\n",
    "wind=[]\n",
    "hum=[]\n",
    "cld=[]\n",
    "crd=[]\n",
    "for city in city_list:\n",
    "    try:\n",
    "        response = requests.get(query_url + city).json()\n",
    "        print(city,response['id'])\n",
    "        \n",
    "        temp.append(response['main']['temp'])\n",
    "        hum.append(response['main']['humidity'])\n",
    "        wind.append(response['wind'])\n",
    "        cld.append(response['clouds'])\n",
    "        crd.append(response['coord'])\n",
    "    except:\n",
    "        print(\"city not found\")\n",
    "        pass\n",
    "    "
   ]
  },
  {
   "cell_type": "markdown",
   "metadata": {},
   "source": [
    "### Convert Raw Data to DataFrame\n",
    "* Export the city data into a .csv.\n",
    "* Display the DataFrame"
   ]
  },
  {
   "cell_type": "code",
   "execution_count": null,
   "metadata": {},
   "outputs": [],
   "source": []
  },
  {
   "cell_type": "code",
   "execution_count": null,
   "metadata": {},
   "outputs": [],
   "source": [
    "data = pd.DataFrame({'City':[ city_list[i] for i in range(0,len(city_list))],\n",
    "                     'Coord':[crd[j] for j in range(0,len(crd))]\n",
    "       \n",
    "        \n",
    "       } )"
   ]
  },
  {
   "cell_type": "markdown",
   "metadata": {},
   "source": [
    "### Plotting the Data\n",
    "* Use proper labeling of the plots using plot titles (including date of analysis) and axes labels.\n",
    "* Save the plotted figures as .pngs."
   ]
  },
  {
   "cell_type": "markdown",
   "metadata": {},
   "source": [
    "#### Latitude vs. Temperature Plot"
   ]
  },
  {
   "cell_type": "code",
   "execution_count": null,
   "metadata": {
    "scrolled": true
   },
   "outputs": [],
   "source": []
  },
  {
   "cell_type": "markdown",
   "metadata": {},
   "source": [
    "#### Latitude vs. Humidity Plot"
   ]
  },
  {
   "cell_type": "code",
   "execution_count": null,
   "metadata": {},
   "outputs": [],
   "source": []
  },
  {
   "cell_type": "markdown",
   "metadata": {},
   "source": [
    "#### Latitude vs. Cloudiness Plot"
   ]
  },
  {
   "cell_type": "code",
   "execution_count": null,
   "metadata": {},
   "outputs": [],
   "source": []
  },
  {
   "cell_type": "markdown",
   "metadata": {},
   "source": [
    "#### Latitude vs. Wind Speed Plot"
   ]
  },
  {
   "cell_type": "code",
   "execution_count": null,
   "metadata": {},
   "outputs": [],
   "source": []
  },
  {
   "cell_type": "markdown",
   "metadata": {},
   "source": [
    "## Linear Regression"
   ]
  },
  {
   "cell_type": "code",
   "execution_count": null,
   "metadata": {},
   "outputs": [],
   "source": [
    "# OPTIONAL: Create a function to create Linear Regression plots\n"
   ]
  },
  {
   "cell_type": "code",
   "execution_count": null,
   "metadata": {},
   "outputs": [],
   "source": [
    "# Create Northern and Southern Hemisphere DataFrames\n"
   ]
  },
  {
   "cell_type": "markdown",
   "metadata": {},
   "source": [
    "####  Northern Hemisphere - Max Temp vs. Latitude Linear Regression"
   ]
  },
  {
   "cell_type": "code",
   "execution_count": null,
   "metadata": {},
   "outputs": [],
   "source": []
  },
  {
   "cell_type": "markdown",
   "metadata": {},
   "source": [
    "####  Southern Hemisphere - Max Temp vs. Latitude Linear Regression"
   ]
  },
  {
   "cell_type": "code",
   "execution_count": null,
   "metadata": {},
   "outputs": [],
   "source": []
  },
  {
   "cell_type": "markdown",
   "metadata": {},
   "source": [
    "####  Northern Hemisphere - Humidity (%) vs. Latitude Linear Regression"
   ]
  },
  {
   "cell_type": "code",
   "execution_count": null,
   "metadata": {},
   "outputs": [],
   "source": []
  },
  {
   "cell_type": "markdown",
   "metadata": {},
   "source": [
    "####  Southern Hemisphere - Humidity (%) vs. Latitude Linear Regression"
   ]
  },
  {
   "cell_type": "code",
   "execution_count": null,
   "metadata": {},
   "outputs": [],
   "source": []
  },
  {
   "cell_type": "markdown",
   "metadata": {},
   "source": [
    "####  Northern Hemisphere - Cloudiness (%) vs. Latitude Linear Regression"
   ]
  },
  {
   "cell_type": "code",
   "execution_count": null,
   "metadata": {},
   "outputs": [],
   "source": []
  },
  {
   "cell_type": "markdown",
   "metadata": {},
   "source": [
    "####  Southern Hemisphere - Cloudiness (%) vs. Latitude Linear Regression"
   ]
  },
  {
   "cell_type": "code",
   "execution_count": null,
   "metadata": {},
   "outputs": [],
   "source": []
  },
  {
   "cell_type": "markdown",
   "metadata": {},
   "source": [
    "####  Northern Hemisphere - Wind Speed (mph) vs. Latitude Linear Regression"
   ]
  },
  {
   "cell_type": "code",
   "execution_count": null,
   "metadata": {},
   "outputs": [],
   "source": []
  },
  {
   "cell_type": "markdown",
   "metadata": {},
   "source": [
    "####  Southern Hemisphere - Wind Speed (mph) vs. Latitude Linear Regression"
   ]
  },
  {
   "cell_type": "code",
   "execution_count": null,
   "metadata": {},
   "outputs": [],
   "source": []
  },
  {
   "cell_type": "code",
   "execution_count": null,
   "metadata": {},
   "outputs": [],
   "source": []
  }
 ],
 "metadata": {
  "anaconda-cloud": {},
  "kernel_info": {
   "name": "python3"
  },
  "kernelspec": {
   "display_name": "Python 3",
   "language": "python",
   "name": "python3"
  },
  "language_info": {
   "codemirror_mode": {
    "name": "ipython",
    "version": 3
   },
   "file_extension": ".py",
   "mimetype": "text/x-python",
   "name": "python",
   "nbconvert_exporter": "python",
   "pygments_lexer": "ipython3",
   "version": "3.7.4"
  },
  "latex_envs": {
   "LaTeX_envs_menu_present": true,
   "autoclose": false,
   "autocomplete": true,
   "bibliofile": "biblio.bib",
   "cite_by": "apalike",
   "current_citInitial": 1,
   "eqLabelWithNumbers": true,
   "eqNumInitial": 1,
   "hotkeys": {
    "equation": "Ctrl-E",
    "itemize": "Ctrl-I"
   },
   "labels_anchors": false,
   "latex_user_defs": false,
   "report_style_numbering": false,
   "user_envs_cfg": false
  },
  "nteract": {
   "version": "0.12.3"
  }
 },
 "nbformat": 4,
 "nbformat_minor": 2
}
